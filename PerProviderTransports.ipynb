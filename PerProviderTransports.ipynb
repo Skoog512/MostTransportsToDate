{
 "cells": [
  {
   "cell_type": "markdown",
   "id": "098ca21e",
   "metadata": {},
   "source": [
    "## Per Provider Stats (Operations)\n",
    "\n",
    "### 1. Most Transports To Date\n"
   ]
  },
  {
   "cell_type": "code",
   "execution_count": 61,
   "id": "15ef926c",
   "metadata": {},
   "outputs": [],
   "source": [
    "import pandas as pd\n",
    "import numpy as np\n",
    "import plotly.express as px"
   ]
  },
  {
   "cell_type": "code",
   "execution_count": 62,
   "id": "0252e9f5",
   "metadata": {},
   "outputs": [
    {
     "data": {
      "text/html": [
       "<div>\n",
       "<style scoped>\n",
       "    .dataframe tbody tr th:only-of-type {\n",
       "        vertical-align: middle;\n",
       "    }\n",
       "\n",
       "    .dataframe tbody tr th {\n",
       "        vertical-align: top;\n",
       "    }\n",
       "\n",
       "    .dataframe thead th {\n",
       "        text-align: right;\n",
       "    }\n",
       "</style>\n",
       "<table border=\"1\" class=\"dataframe\">\n",
       "  <thead>\n",
       "    <tr style=\"text-align: right;\">\n",
       "      <th></th>\n",
       "      <th>ESO Record ID</th>\n",
       "      <th>Crew Last Name</th>\n",
       "      <th>Crew First Name</th>\n",
       "      <th>Transport Method</th>\n",
       "      <th>Destination Location Name</th>\n",
       "    </tr>\n",
       "  </thead>\n",
       "  <tbody>\n",
       "    <tr>\n",
       "      <th>0</th>\n",
       "      <td>00dfbabb-4cfe-44fd-b9bd-b2da01674cab</td>\n",
       "      <td>Manak</td>\n",
       "      <td>Kelsey</td>\n",
       "      <td>Ground-Ambulance</td>\n",
       "      <td>SETON ER, AUSTIN</td>\n",
       "    </tr>\n",
       "    <tr>\n",
       "      <th>1</th>\n",
       "      <td>00dfbabb-4cfe-44fd-b9bd-b2da01674cab</td>\n",
       "      <td>Mendoza</td>\n",
       "      <td>Daniel</td>\n",
       "      <td>Ground-Ambulance</td>\n",
       "      <td>SETON ER, AUSTIN</td>\n",
       "    </tr>\n",
       "    <tr>\n",
       "      <th>2</th>\n",
       "      <td>03446cd8-b176-450e-b6ed-b2ba015c33b3</td>\n",
       "      <td>Badger</td>\n",
       "      <td>Avery</td>\n",
       "      <td>Ground-Ambulance</td>\n",
       "      <td>SETON SOUTHWEST HOSPITAL</td>\n",
       "    </tr>\n",
       "    <tr>\n",
       "      <th>3</th>\n",
       "      <td>03446cd8-b176-450e-b6ed-b2ba015c33b3</td>\n",
       "      <td>Lien</td>\n",
       "      <td>Veronica</td>\n",
       "      <td>Ground-Ambulance</td>\n",
       "      <td>SETON SOUTHWEST HOSPITAL</td>\n",
       "    </tr>\n",
       "    <tr>\n",
       "      <th>4</th>\n",
       "      <td>04d097e4-d79b-4065-a944-b2d800ae5c99</td>\n",
       "      <td>Elliott</td>\n",
       "      <td>Cody</td>\n",
       "      <td>Ground-Ambulance</td>\n",
       "      <td>Dell Childrens Medical Center</td>\n",
       "    </tr>\n",
       "  </tbody>\n",
       "</table>\n",
       "</div>"
      ],
      "text/plain": [
       "                          ESO Record ID Crew Last Name Crew First Name  \\\n",
       "0  00dfbabb-4cfe-44fd-b9bd-b2da01674cab          Manak          Kelsey   \n",
       "1  00dfbabb-4cfe-44fd-b9bd-b2da01674cab        Mendoza          Daniel   \n",
       "2  03446cd8-b176-450e-b6ed-b2ba015c33b3         Badger           Avery   \n",
       "3  03446cd8-b176-450e-b6ed-b2ba015c33b3           Lien        Veronica   \n",
       "4  04d097e4-d79b-4065-a944-b2d800ae5c99        Elliott            Cody   \n",
       "\n",
       "   Transport Method      Destination Location Name  \n",
       "0  Ground-Ambulance               SETON ER, AUSTIN  \n",
       "1  Ground-Ambulance               SETON ER, AUSTIN  \n",
       "2  Ground-Ambulance       SETON SOUTHWEST HOSPITAL  \n",
       "3  Ground-Ambulance       SETON SOUTHWEST HOSPITAL  \n",
       "4  Ground-Ambulance  Dell Childrens Medical Center  "
      ]
     },
     "execution_count": 62,
     "metadata": {},
     "output_type": "execute_result"
    }
   ],
   "source": [
    "transport_df = pd.read_csv('./AllTransports.csv', index_col=False)\n",
    "transport_df.head()"
   ]
  },
  {
   "cell_type": "code",
   "execution_count": 63,
   "id": "8aec54b1",
   "metadata": {},
   "outputs": [
    {
     "data": {
      "text/html": [
       "<div>\n",
       "<style scoped>\n",
       "    .dataframe tbody tr th:only-of-type {\n",
       "        vertical-align: middle;\n",
       "    }\n",
       "\n",
       "    .dataframe tbody tr th {\n",
       "        vertical-align: top;\n",
       "    }\n",
       "\n",
       "    .dataframe thead th {\n",
       "        text-align: right;\n",
       "    }\n",
       "</style>\n",
       "<table border=\"1\" class=\"dataframe\">\n",
       "  <thead>\n",
       "    <tr style=\"text-align: right;\">\n",
       "      <th></th>\n",
       "      <th>ESO Record ID</th>\n",
       "      <th>Crew Last Name</th>\n",
       "      <th>Crew First Name</th>\n",
       "      <th>Transport Method</th>\n",
       "      <th>Destination Location Name</th>\n",
       "      <th>Full Name</th>\n",
       "    </tr>\n",
       "  </thead>\n",
       "  <tbody>\n",
       "    <tr>\n",
       "      <th>0</th>\n",
       "      <td>00dfbabb-4cfe-44fd-b9bd-b2da01674cab</td>\n",
       "      <td>Manak</td>\n",
       "      <td>Kelsey</td>\n",
       "      <td>Ground-Ambulance</td>\n",
       "      <td>SETON ER, AUSTIN</td>\n",
       "      <td>Kelsey Manak</td>\n",
       "    </tr>\n",
       "    <tr>\n",
       "      <th>1</th>\n",
       "      <td>00dfbabb-4cfe-44fd-b9bd-b2da01674cab</td>\n",
       "      <td>Mendoza</td>\n",
       "      <td>Daniel</td>\n",
       "      <td>Ground-Ambulance</td>\n",
       "      <td>SETON ER, AUSTIN</td>\n",
       "      <td>Daniel Mendoza</td>\n",
       "    </tr>\n",
       "    <tr>\n",
       "      <th>2</th>\n",
       "      <td>03446cd8-b176-450e-b6ed-b2ba015c33b3</td>\n",
       "      <td>Badger</td>\n",
       "      <td>Avery</td>\n",
       "      <td>Ground-Ambulance</td>\n",
       "      <td>SETON SOUTHWEST HOSPITAL</td>\n",
       "      <td>Avery Badger</td>\n",
       "    </tr>\n",
       "    <tr>\n",
       "      <th>3</th>\n",
       "      <td>03446cd8-b176-450e-b6ed-b2ba015c33b3</td>\n",
       "      <td>Lien</td>\n",
       "      <td>Veronica</td>\n",
       "      <td>Ground-Ambulance</td>\n",
       "      <td>SETON SOUTHWEST HOSPITAL</td>\n",
       "      <td>Veronica Lien</td>\n",
       "    </tr>\n",
       "    <tr>\n",
       "      <th>4</th>\n",
       "      <td>04d097e4-d79b-4065-a944-b2d800ae5c99</td>\n",
       "      <td>Elliott</td>\n",
       "      <td>Cody</td>\n",
       "      <td>Ground-Ambulance</td>\n",
       "      <td>Dell Childrens Medical Center</td>\n",
       "      <td>Cody Elliott</td>\n",
       "    </tr>\n",
       "  </tbody>\n",
       "</table>\n",
       "</div>"
      ],
      "text/plain": [
       "                          ESO Record ID Crew Last Name Crew First Name  \\\n",
       "0  00dfbabb-4cfe-44fd-b9bd-b2da01674cab          Manak          Kelsey   \n",
       "1  00dfbabb-4cfe-44fd-b9bd-b2da01674cab        Mendoza          Daniel   \n",
       "2  03446cd8-b176-450e-b6ed-b2ba015c33b3         Badger           Avery   \n",
       "3  03446cd8-b176-450e-b6ed-b2ba015c33b3           Lien        Veronica   \n",
       "4  04d097e4-d79b-4065-a944-b2d800ae5c99        Elliott            Cody   \n",
       "\n",
       "   Transport Method      Destination Location Name       Full Name  \n",
       "0  Ground-Ambulance               SETON ER, AUSTIN    Kelsey Manak  \n",
       "1  Ground-Ambulance               SETON ER, AUSTIN  Daniel Mendoza  \n",
       "2  Ground-Ambulance       SETON SOUTHWEST HOSPITAL    Avery Badger  \n",
       "3  Ground-Ambulance       SETON SOUTHWEST HOSPITAL   Veronica Lien  \n",
       "4  Ground-Ambulance  Dell Childrens Medical Center    Cody Elliott  "
      ]
     },
     "execution_count": 63,
     "metadata": {},
     "output_type": "execute_result"
    }
   ],
   "source": [
    "transport_df[\"Full Name\"] = transport_df[\"Crew First Name\"] + \" \" + transport_df[\"Crew Last Name\"]\n",
    "transport_df.head()"
   ]
  },
  {
   "cell_type": "code",
   "execution_count": 64,
   "id": "496fd422",
   "metadata": {},
   "outputs": [],
   "source": [
    "#(index = Names, Values = Num Transports)\n",
    "values_counts = transport_df[\"Full Name\"].value_counts()\n"
   ]
  },
  {
   "cell_type": "code",
   "execution_count": 65,
   "id": "214c8b69",
   "metadata": {},
   "outputs": [],
   "source": [
    "provider_transport_breakdown_series = transport_df.groupby(\"Full Name\")[\"Destination Location Name\"].value_counts()\n",
    "provider_transport_breakdown_df = provider_transport_breakdown_series.reset_index(name='count')\n",
    "provider_transport_breakdown_df['Total'] = provider_transport_breakdown_df.groupby('Full Name')['count'].transform('sum')\n",
    "\n"
   ]
  },
  {
   "cell_type": "code",
   "execution_count": 66,
   "id": "be3da159",
   "metadata": {},
   "outputs": [
    {
     "data": {
      "application/vnd.plotly.v1+json": {
       "config": {
        "plotlyServerURL": "https://plot.ly"
       },
       "data": [
        {
         "hovertemplate": "Transport Destinations=SOUTH AUSTIN HOSPITAL, AUSTIN<br>Providers=%{x}<br>Total Transports=%{y}<extra></extra>",
         "legendgroup": "SOUTH AUSTIN HOSPITAL, AUSTIN",
         "marker": {
          "color": "#636efa",
          "pattern": {
           "shape": ""
          }
         },
         "name": "SOUTH AUSTIN HOSPITAL, AUSTIN",
         "orientation": "v",
         "showlegend": true,
         "textposition": "auto",
         "type": "bar",
         "x": [
          "Abigail Osborn",
          "Avery Badger",
          "Cody Elliott",
          "Dakota Adamson",
          "Daniel Combs",
          "Daniel Mendoza",
          "Ethan Skirvin",
          "Faith Hunter",
          "Greg Francescon",
          "Haley Owens",
          "Jacob Beasley",
          "Jacob Franco",
          "Jeff Hennes",
          "Jeremy Kilpatrick",
          "Joshua Jakubec",
          "Katlyn Longoria",
          "Kelsey Jacquet",
          "Kelsey Manak",
          "Lydia Lopez",
          "Michael Lara",
          "Nathan Lozuk",
          "Randy Follis",
          "Rick Howell",
          "Sarai Godinez",
          "Scott Robinson",
          "Tiffany Wang",
          "Veronica Lien",
          "liliana Franco"
         ],
         "xaxis": "x",
         "y": {
          "bdata": "CQ0KDw4EBwQODgQCCggQCAoGAgkHBAMLAQcMDQ==",
          "dtype": "i1"
         },
         "yaxis": "y"
        },
        {
         "hovertemplate": "Transport Destinations=BAYLOR SCOTT & WHITE - LAKEWAY<br>Providers=%{x}<br>Total Transports=%{y}<extra></extra>",
         "legendgroup": "BAYLOR SCOTT & WHITE - LAKEWAY",
         "marker": {
          "color": "#EF553B",
          "pattern": {
           "shape": ""
          }
         },
         "name": "BAYLOR SCOTT & WHITE - LAKEWAY",
         "orientation": "v",
         "showlegend": true,
         "textposition": "auto",
         "type": "bar",
         "x": [
          "Abigail Osborn",
          "Avery Badger",
          "Cody Elliott",
          "Dakota Adamson",
          "Daniel Combs",
          "Daniel Mendoza",
          "Ethan Skirvin",
          "Faith Hunter",
          "Greg Francescon",
          "Haley Owens",
          "Jacob Beasley",
          "Jeff Hennes",
          "Jeremy Kilpatrick",
          "Joshua Jakubec",
          "Kelsey Jacquet",
          "Kelsey Manak",
          "Lydia Lopez",
          "Michael Lara",
          "Nathan Lozuk",
          "ROBERT LUDDY",
          "Randy Follis",
          "Sarai Godinez",
          "Tiffany Wang",
          "Veronica Lien"
         ],
         "xaxis": "x",
         "y": {
          "bdata": "AwEBAwMCAwIBAQIBAQEDBQEBAQEDAgMB",
          "dtype": "i1"
         },
         "yaxis": "y"
        },
        {
         "hovertemplate": "Transport Destinations=DELL SETON MEDICAL CENTER<br>Providers=%{x}<br>Total Transports=%{y}<extra></extra>",
         "legendgroup": "DELL SETON MEDICAL CENTER",
         "marker": {
          "color": "#00cc96",
          "pattern": {
           "shape": ""
          }
         },
         "name": "DELL SETON MEDICAL CENTER",
         "orientation": "v",
         "showlegend": true,
         "textposition": "auto",
         "type": "bar",
         "x": [
          "Abigail Osborn",
          "Cody Elliott",
          "Faith Hunter",
          "Joshua Jakubec",
          "Sarai Godinez"
         ],
         "xaxis": "x",
         "y": {
          "bdata": "AQEBAQE=",
          "dtype": "i1"
         },
         "yaxis": "y"
        },
        {
         "hovertemplate": "Transport Destinations=SETON SOUTHWEST HOSPITAL<br>Providers=%{x}<br>Total Transports=%{y}<extra></extra>",
         "legendgroup": "SETON SOUTHWEST HOSPITAL",
         "marker": {
          "color": "#ab63fa",
          "pattern": {
           "shape": ""
          }
         },
         "name": "SETON SOUTHWEST HOSPITAL",
         "orientation": "v",
         "showlegend": true,
         "textposition": "auto",
         "type": "bar",
         "x": [
          "Abigail Osborn",
          "Avery Badger",
          "Cody Elliott",
          "Daniel Mendoza",
          "Ethan Skirvin",
          "Greg Francescon",
          "Haley Owens",
          "Jacob Beasley",
          "Jeff Hennes",
          "Jeremy Kilpatrick",
          "Joshua Jakubec",
          "Katlyn Longoria",
          "Kelsey Jacquet",
          "Kelsey Manak",
          "Lydia Lopez",
          "Michael Lara",
          "Nathan Lozuk",
          "Randy Follis",
          "Rick Howell",
          "Sarai Godinez",
          "Tiffany Wang",
          "Veronica Lien",
          "liliana Franco"
         ],
         "xaxis": "x",
         "y": {
          "bdata": "AQkDAQEBAQEIAQQEAgEDBwEBAwMBCAQ=",
          "dtype": "i1"
         },
         "yaxis": "y"
        },
        {
         "hovertemplate": "Transport Destinations=Dell Childrens Medical Center<br>Providers=%{x}<br>Total Transports=%{y}<extra></extra>",
         "legendgroup": "Dell Childrens Medical Center",
         "marker": {
          "color": "#FFA15A",
          "pattern": {
           "shape": ""
          }
         },
         "name": "Dell Childrens Medical Center",
         "orientation": "v",
         "showlegend": true,
         "textposition": "auto",
         "type": "bar",
         "x": [
          "Avery Badger",
          "Cody Elliott",
          "Greg Francescon",
          "Haley Owens",
          "Jeremy Kilpatrick",
          "Jonathon McKane",
          "Joshua Jakubec",
          "Katlyn Longoria",
          "Nathan Lozuk",
          "ROBERT LUDDY",
          "Sarai Godinez",
          "Sean Vajgrt",
          "Veronica Lien",
          "liliana Franco"
         ],
         "xaxis": "x",
         "y": {
          "bdata": "AQMBAQEBAwEBAQIBAQE=",
          "dtype": "i1"
         },
         "yaxis": "y"
        },
        {
         "hovertemplate": "Transport Destinations=SETON ER, AUSTIN<br>Providers=%{x}<br>Total Transports=%{y}<extra></extra>",
         "legendgroup": "SETON ER, AUSTIN",
         "marker": {
          "color": "#19d3f3",
          "pattern": {
           "shape": ""
          }
         },
         "name": "SETON ER, AUSTIN",
         "orientation": "v",
         "showlegend": true,
         "textposition": "auto",
         "type": "bar",
         "x": [
          "Avery Badger",
          "Cody Elliott",
          "Daniel Mendoza",
          "Jeff Hennes",
          "Jeremy Kilpatrick",
          "Joshua Jakubec",
          "Kelsey Manak",
          "Lydia Lopez",
          "Nathan Lozuk",
          "Rick Howell"
         ],
         "xaxis": "x",
         "y": {
          "bdata": "AQMBAQEDAQEBAQ==",
          "dtype": "i1"
         },
         "yaxis": "y"
        },
        {
         "hovertemplate": "Transport Destinations=HEART HOSPITAL OF AUSTIN<br>Providers=%{x}<br>Total Transports=%{y}<extra></extra>",
         "legendgroup": "HEART HOSPITAL OF AUSTIN",
         "marker": {
          "color": "#FF6692",
          "pattern": {
           "shape": ""
          }
         },
         "name": "HEART HOSPITAL OF AUSTIN",
         "orientation": "v",
         "showlegend": true,
         "textposition": "auto",
         "type": "bar",
         "x": [
          "Cody Elliott",
          "Joshua Jakubec",
          "Sarai Godinez"
         ],
         "xaxis": "x",
         "y": {
          "bdata": "AQEB",
          "dtype": "i1"
         },
         "yaxis": "y"
        },
        {
         "hovertemplate": "Transport Destinations=SETON MED CENTER, HAYS<br>Providers=%{x}<br>Total Transports=%{y}<extra></extra>",
         "legendgroup": "SETON MED CENTER, HAYS",
         "marker": {
          "color": "#B6E880",
          "pattern": {
           "shape": ""
          }
         },
         "name": "SETON MED CENTER, HAYS",
         "orientation": "v",
         "showlegend": true,
         "textposition": "auto",
         "type": "bar",
         "x": [
          "Dakota Adamson",
          "Daniel Combs",
          "Ethan Skirvin",
          "Greg Francescon",
          "Haley Owens",
          "Joshua Jakubec",
          "Kelsey Jacquet",
          "Nathan Lozuk",
          "Rick Howell",
          "Scott Robinson",
          "Tiffany Wang"
         ],
         "xaxis": "x",
         "y": {
          "bdata": "AQICAQEBAgEBAQI=",
          "dtype": "i1"
         },
         "yaxis": "y"
        },
        {
         "hovertemplate": "Transport Destinations=BAYLOR SCOTT & WHITE - AUSTIN<br>Providers=%{x}<br>Total Transports=%{y}<extra></extra>",
         "legendgroup": "BAYLOR SCOTT & WHITE - AUSTIN",
         "marker": {
          "color": "#FF97FF",
          "pattern": {
           "shape": ""
          }
         },
         "name": "BAYLOR SCOTT & WHITE - AUSTIN",
         "orientation": "v",
         "showlegend": true,
         "textposition": "auto",
         "type": "bar",
         "x": [
          "Greg Francescon",
          "Haley Owens"
         ],
         "xaxis": "x",
         "y": {
          "bdata": "AQE=",
          "dtype": "i1"
         },
         "yaxis": "y"
        },
        {
         "hovertemplate": "Transport Destinations=NORTH AUSTIN MEDICAL CENT.<br>Providers=%{x}<br>Total Transports=%{y}<extra></extra>",
         "legendgroup": "NORTH AUSTIN MEDICAL CENT.",
         "marker": {
          "color": "#FECB52",
          "pattern": {
           "shape": ""
          }
         },
         "name": "NORTH AUSTIN MEDICAL CENT.",
         "orientation": "v",
         "showlegend": true,
         "textposition": "auto",
         "type": "bar",
         "x": [
          "Jeff Hennes",
          "Jonathon McKane",
          "Michael Lara",
          "ROBERT LUDDY"
         ],
         "xaxis": "x",
         "y": {
          "bdata": "AgECAQ==",
          "dtype": "i1"
         },
         "yaxis": "y"
        },
        {
         "hovertemplate": "Transport Destinations=ST DAVID'S ER, AUSTIN<br>Providers=%{x}<br>Total Transports=%{y}<extra></extra>",
         "legendgroup": "ST DAVID'S ER, AUSTIN",
         "marker": {
          "color": "#636efa",
          "pattern": {
           "shape": ""
          }
         },
         "name": "ST DAVID'S ER, AUSTIN",
         "orientation": "v",
         "showlegend": true,
         "textposition": "auto",
         "type": "bar",
         "x": [
          "Lydia Lopez",
          "Rick Howell"
         ],
         "xaxis": "x",
         "y": {
          "bdata": "AQE=",
          "dtype": "i1"
         },
         "yaxis": "y"
        }
       ],
       "layout": {
        "annotations": [
         {
          "showarrow": false,
          "text": "14",
          "x": "Abigail Osborn",
          "y": 14,
          "yshift": 10
         },
         {
          "showarrow": false,
          "text": "25",
          "x": "Avery Badger",
          "y": 25,
          "yshift": 10
         },
         {
          "showarrow": false,
          "text": "22",
          "x": "Cody Elliott",
          "y": 22,
          "yshift": 10
         },
         {
          "showarrow": false,
          "text": "19",
          "x": "Dakota Adamson",
          "y": 19,
          "yshift": 10
         },
         {
          "showarrow": false,
          "text": "19",
          "x": "Daniel Combs",
          "y": 19,
          "yshift": 10
         },
         {
          "showarrow": false,
          "text": "8",
          "x": "Daniel Mendoza",
          "y": 8,
          "yshift": 10
         },
         {
          "showarrow": false,
          "text": "13",
          "x": "Ethan Skirvin",
          "y": 13,
          "yshift": 10
         },
         {
          "showarrow": false,
          "text": "7",
          "x": "Faith Hunter",
          "y": 7,
          "yshift": 10
         },
         {
          "showarrow": false,
          "text": "19",
          "x": "Greg Francescon",
          "y": 19,
          "yshift": 10
         },
         {
          "showarrow": false,
          "text": "19",
          "x": "Haley Owens",
          "y": 19,
          "yshift": 10
         },
         {
          "showarrow": false,
          "text": "7",
          "x": "Jacob Beasley",
          "y": 7,
          "yshift": 10
         },
         {
          "showarrow": false,
          "text": "2",
          "x": "Jacob Franco",
          "y": 2,
          "yshift": 10
         },
         {
          "showarrow": false,
          "text": "22",
          "x": "Jeff Hennes",
          "y": 22,
          "yshift": 10
         },
         {
          "showarrow": false,
          "text": "12",
          "x": "Jeremy Kilpatrick",
          "y": 12,
          "yshift": 10
         },
         {
          "showarrow": false,
          "text": "2",
          "x": "Jonathon McKane",
          "y": 2,
          "yshift": 10
         },
         {
          "showarrow": false,
          "text": "30",
          "x": "Joshua Jakubec",
          "y": 30,
          "yshift": 10
         },
         {
          "showarrow": false,
          "text": "13",
          "x": "Katlyn Longoria",
          "y": 13,
          "yshift": 10
         },
         {
          "showarrow": false,
          "text": "17",
          "x": "Kelsey Jacquet",
          "y": 17,
          "yshift": 10
         },
         {
          "showarrow": false,
          "text": "13",
          "x": "Kelsey Manak",
          "y": 13,
          "yshift": 10
         },
         {
          "showarrow": false,
          "text": "8",
          "x": "Lydia Lopez",
          "y": 8,
          "yshift": 10
         },
         {
          "showarrow": false,
          "text": "19",
          "x": "Michael Lara",
          "y": 19,
          "yshift": 10
         },
         {
          "showarrow": false,
          "text": "12",
          "x": "Nathan Lozuk",
          "y": 12,
          "yshift": 10
         },
         {
          "showarrow": false,
          "text": "3",
          "x": "ROBERT LUDDY",
          "y": 3,
          "yshift": 10
         },
         {
          "showarrow": false,
          "text": "8",
          "x": "Randy Follis",
          "y": 8,
          "yshift": 10
         },
         {
          "showarrow": false,
          "text": "9",
          "x": "Rick Howell",
          "y": 9,
          "yshift": 10
         },
         {
          "showarrow": false,
          "text": "20",
          "x": "Sarai Godinez",
          "y": 20,
          "yshift": 10
         },
         {
          "showarrow": false,
          "text": "2",
          "x": "Scott Robinson",
          "y": 2,
          "yshift": 10
         },
         {
          "showarrow": false,
          "text": "1",
          "x": "Sean Vajgrt",
          "y": 1,
          "yshift": 10
         },
         {
          "showarrow": false,
          "text": "13",
          "x": "Tiffany Wang",
          "y": 13,
          "yshift": 10
         },
         {
          "showarrow": false,
          "text": "22",
          "x": "Veronica Lien",
          "y": 22,
          "yshift": 10
         },
         {
          "showarrow": false,
          "text": "18",
          "x": "liliana Franco",
          "y": 18,
          "yshift": 10
         }
        ],
        "barmode": "relative",
        "legend": {
         "title": {
          "text": "Transport Destinations"
         },
         "tracegroupgap": 0
        },
        "template": {
         "data": {
          "bar": [
           {
            "error_x": {
             "color": "#2a3f5f"
            },
            "error_y": {
             "color": "#2a3f5f"
            },
            "marker": {
             "line": {
              "color": "#E5ECF6",
              "width": 0.5
             },
             "pattern": {
              "fillmode": "overlay",
              "size": 10,
              "solidity": 0.2
             }
            },
            "type": "bar"
           }
          ],
          "barpolar": [
           {
            "marker": {
             "line": {
              "color": "#E5ECF6",
              "width": 0.5
             },
             "pattern": {
              "fillmode": "overlay",
              "size": 10,
              "solidity": 0.2
             }
            },
            "type": "barpolar"
           }
          ],
          "carpet": [
           {
            "aaxis": {
             "endlinecolor": "#2a3f5f",
             "gridcolor": "white",
             "linecolor": "white",
             "minorgridcolor": "white",
             "startlinecolor": "#2a3f5f"
            },
            "baxis": {
             "endlinecolor": "#2a3f5f",
             "gridcolor": "white",
             "linecolor": "white",
             "minorgridcolor": "white",
             "startlinecolor": "#2a3f5f"
            },
            "type": "carpet"
           }
          ],
          "choropleth": [
           {
            "colorbar": {
             "outlinewidth": 0,
             "ticks": ""
            },
            "type": "choropleth"
           }
          ],
          "contour": [
           {
            "colorbar": {
             "outlinewidth": 0,
             "ticks": ""
            },
            "colorscale": [
             [
              0,
              "#0d0887"
             ],
             [
              0.1111111111111111,
              "#46039f"
             ],
             [
              0.2222222222222222,
              "#7201a8"
             ],
             [
              0.3333333333333333,
              "#9c179e"
             ],
             [
              0.4444444444444444,
              "#bd3786"
             ],
             [
              0.5555555555555556,
              "#d8576b"
             ],
             [
              0.6666666666666666,
              "#ed7953"
             ],
             [
              0.7777777777777778,
              "#fb9f3a"
             ],
             [
              0.8888888888888888,
              "#fdca26"
             ],
             [
              1,
              "#f0f921"
             ]
            ],
            "type": "contour"
           }
          ],
          "contourcarpet": [
           {
            "colorbar": {
             "outlinewidth": 0,
             "ticks": ""
            },
            "type": "contourcarpet"
           }
          ],
          "heatmap": [
           {
            "colorbar": {
             "outlinewidth": 0,
             "ticks": ""
            },
            "colorscale": [
             [
              0,
              "#0d0887"
             ],
             [
              0.1111111111111111,
              "#46039f"
             ],
             [
              0.2222222222222222,
              "#7201a8"
             ],
             [
              0.3333333333333333,
              "#9c179e"
             ],
             [
              0.4444444444444444,
              "#bd3786"
             ],
             [
              0.5555555555555556,
              "#d8576b"
             ],
             [
              0.6666666666666666,
              "#ed7953"
             ],
             [
              0.7777777777777778,
              "#fb9f3a"
             ],
             [
              0.8888888888888888,
              "#fdca26"
             ],
             [
              1,
              "#f0f921"
             ]
            ],
            "type": "heatmap"
           }
          ],
          "histogram": [
           {
            "marker": {
             "pattern": {
              "fillmode": "overlay",
              "size": 10,
              "solidity": 0.2
             }
            },
            "type": "histogram"
           }
          ],
          "histogram2d": [
           {
            "colorbar": {
             "outlinewidth": 0,
             "ticks": ""
            },
            "colorscale": [
             [
              0,
              "#0d0887"
             ],
             [
              0.1111111111111111,
              "#46039f"
             ],
             [
              0.2222222222222222,
              "#7201a8"
             ],
             [
              0.3333333333333333,
              "#9c179e"
             ],
             [
              0.4444444444444444,
              "#bd3786"
             ],
             [
              0.5555555555555556,
              "#d8576b"
             ],
             [
              0.6666666666666666,
              "#ed7953"
             ],
             [
              0.7777777777777778,
              "#fb9f3a"
             ],
             [
              0.8888888888888888,
              "#fdca26"
             ],
             [
              1,
              "#f0f921"
             ]
            ],
            "type": "histogram2d"
           }
          ],
          "histogram2dcontour": [
           {
            "colorbar": {
             "outlinewidth": 0,
             "ticks": ""
            },
            "colorscale": [
             [
              0,
              "#0d0887"
             ],
             [
              0.1111111111111111,
              "#46039f"
             ],
             [
              0.2222222222222222,
              "#7201a8"
             ],
             [
              0.3333333333333333,
              "#9c179e"
             ],
             [
              0.4444444444444444,
              "#bd3786"
             ],
             [
              0.5555555555555556,
              "#d8576b"
             ],
             [
              0.6666666666666666,
              "#ed7953"
             ],
             [
              0.7777777777777778,
              "#fb9f3a"
             ],
             [
              0.8888888888888888,
              "#fdca26"
             ],
             [
              1,
              "#f0f921"
             ]
            ],
            "type": "histogram2dcontour"
           }
          ],
          "mesh3d": [
           {
            "colorbar": {
             "outlinewidth": 0,
             "ticks": ""
            },
            "type": "mesh3d"
           }
          ],
          "parcoords": [
           {
            "line": {
             "colorbar": {
              "outlinewidth": 0,
              "ticks": ""
             }
            },
            "type": "parcoords"
           }
          ],
          "pie": [
           {
            "automargin": true,
            "type": "pie"
           }
          ],
          "scatter": [
           {
            "fillpattern": {
             "fillmode": "overlay",
             "size": 10,
             "solidity": 0.2
            },
            "type": "scatter"
           }
          ],
          "scatter3d": [
           {
            "line": {
             "colorbar": {
              "outlinewidth": 0,
              "ticks": ""
             }
            },
            "marker": {
             "colorbar": {
              "outlinewidth": 0,
              "ticks": ""
             }
            },
            "type": "scatter3d"
           }
          ],
          "scattercarpet": [
           {
            "marker": {
             "colorbar": {
              "outlinewidth": 0,
              "ticks": ""
             }
            },
            "type": "scattercarpet"
           }
          ],
          "scattergeo": [
           {
            "marker": {
             "colorbar": {
              "outlinewidth": 0,
              "ticks": ""
             }
            },
            "type": "scattergeo"
           }
          ],
          "scattergl": [
           {
            "marker": {
             "colorbar": {
              "outlinewidth": 0,
              "ticks": ""
             }
            },
            "type": "scattergl"
           }
          ],
          "scattermap": [
           {
            "marker": {
             "colorbar": {
              "outlinewidth": 0,
              "ticks": ""
             }
            },
            "type": "scattermap"
           }
          ],
          "scattermapbox": [
           {
            "marker": {
             "colorbar": {
              "outlinewidth": 0,
              "ticks": ""
             }
            },
            "type": "scattermapbox"
           }
          ],
          "scatterpolar": [
           {
            "marker": {
             "colorbar": {
              "outlinewidth": 0,
              "ticks": ""
             }
            },
            "type": "scatterpolar"
           }
          ],
          "scatterpolargl": [
           {
            "marker": {
             "colorbar": {
              "outlinewidth": 0,
              "ticks": ""
             }
            },
            "type": "scatterpolargl"
           }
          ],
          "scatterternary": [
           {
            "marker": {
             "colorbar": {
              "outlinewidth": 0,
              "ticks": ""
             }
            },
            "type": "scatterternary"
           }
          ],
          "surface": [
           {
            "colorbar": {
             "outlinewidth": 0,
             "ticks": ""
            },
            "colorscale": [
             [
              0,
              "#0d0887"
             ],
             [
              0.1111111111111111,
              "#46039f"
             ],
             [
              0.2222222222222222,
              "#7201a8"
             ],
             [
              0.3333333333333333,
              "#9c179e"
             ],
             [
              0.4444444444444444,
              "#bd3786"
             ],
             [
              0.5555555555555556,
              "#d8576b"
             ],
             [
              0.6666666666666666,
              "#ed7953"
             ],
             [
              0.7777777777777778,
              "#fb9f3a"
             ],
             [
              0.8888888888888888,
              "#fdca26"
             ],
             [
              1,
              "#f0f921"
             ]
            ],
            "type": "surface"
           }
          ],
          "table": [
           {
            "cells": {
             "fill": {
              "color": "#EBF0F8"
             },
             "line": {
              "color": "white"
             }
            },
            "header": {
             "fill": {
              "color": "#C8D4E3"
             },
             "line": {
              "color": "white"
             }
            },
            "type": "table"
           }
          ]
         },
         "layout": {
          "annotationdefaults": {
           "arrowcolor": "#2a3f5f",
           "arrowhead": 0,
           "arrowwidth": 1
          },
          "autotypenumbers": "strict",
          "coloraxis": {
           "colorbar": {
            "outlinewidth": 0,
            "ticks": ""
           }
          },
          "colorscale": {
           "diverging": [
            [
             0,
             "#8e0152"
            ],
            [
             0.1,
             "#c51b7d"
            ],
            [
             0.2,
             "#de77ae"
            ],
            [
             0.3,
             "#f1b6da"
            ],
            [
             0.4,
             "#fde0ef"
            ],
            [
             0.5,
             "#f7f7f7"
            ],
            [
             0.6,
             "#e6f5d0"
            ],
            [
             0.7,
             "#b8e186"
            ],
            [
             0.8,
             "#7fbc41"
            ],
            [
             0.9,
             "#4d9221"
            ],
            [
             1,
             "#276419"
            ]
           ],
           "sequential": [
            [
             0,
             "#0d0887"
            ],
            [
             0.1111111111111111,
             "#46039f"
            ],
            [
             0.2222222222222222,
             "#7201a8"
            ],
            [
             0.3333333333333333,
             "#9c179e"
            ],
            [
             0.4444444444444444,
             "#bd3786"
            ],
            [
             0.5555555555555556,
             "#d8576b"
            ],
            [
             0.6666666666666666,
             "#ed7953"
            ],
            [
             0.7777777777777778,
             "#fb9f3a"
            ],
            [
             0.8888888888888888,
             "#fdca26"
            ],
            [
             1,
             "#f0f921"
            ]
           ],
           "sequentialminus": [
            [
             0,
             "#0d0887"
            ],
            [
             0.1111111111111111,
             "#46039f"
            ],
            [
             0.2222222222222222,
             "#7201a8"
            ],
            [
             0.3333333333333333,
             "#9c179e"
            ],
            [
             0.4444444444444444,
             "#bd3786"
            ],
            [
             0.5555555555555556,
             "#d8576b"
            ],
            [
             0.6666666666666666,
             "#ed7953"
            ],
            [
             0.7777777777777778,
             "#fb9f3a"
            ],
            [
             0.8888888888888888,
             "#fdca26"
            ],
            [
             1,
             "#f0f921"
            ]
           ]
          },
          "colorway": [
           "#636efa",
           "#EF553B",
           "#00cc96",
           "#ab63fa",
           "#FFA15A",
           "#19d3f3",
           "#FF6692",
           "#B6E880",
           "#FF97FF",
           "#FECB52"
          ],
          "font": {
           "color": "#2a3f5f"
          },
          "geo": {
           "bgcolor": "white",
           "lakecolor": "white",
           "landcolor": "#E5ECF6",
           "showlakes": true,
           "showland": true,
           "subunitcolor": "white"
          },
          "hoverlabel": {
           "align": "left"
          },
          "hovermode": "closest",
          "mapbox": {
           "style": "light"
          },
          "paper_bgcolor": "white",
          "plot_bgcolor": "#E5ECF6",
          "polar": {
           "angularaxis": {
            "gridcolor": "white",
            "linecolor": "white",
            "ticks": ""
           },
           "bgcolor": "#E5ECF6",
           "radialaxis": {
            "gridcolor": "white",
            "linecolor": "white",
            "ticks": ""
           }
          },
          "scene": {
           "xaxis": {
            "backgroundcolor": "#E5ECF6",
            "gridcolor": "white",
            "gridwidth": 2,
            "linecolor": "white",
            "showbackground": true,
            "ticks": "",
            "zerolinecolor": "white"
           },
           "yaxis": {
            "backgroundcolor": "#E5ECF6",
            "gridcolor": "white",
            "gridwidth": 2,
            "linecolor": "white",
            "showbackground": true,
            "ticks": "",
            "zerolinecolor": "white"
           },
           "zaxis": {
            "backgroundcolor": "#E5ECF6",
            "gridcolor": "white",
            "gridwidth": 2,
            "linecolor": "white",
            "showbackground": true,
            "ticks": "",
            "zerolinecolor": "white"
           }
          },
          "shapedefaults": {
           "line": {
            "color": "#2a3f5f"
           }
          },
          "ternary": {
           "aaxis": {
            "gridcolor": "white",
            "linecolor": "white",
            "ticks": ""
           },
           "baxis": {
            "gridcolor": "white",
            "linecolor": "white",
            "ticks": ""
           },
           "bgcolor": "#E5ECF6",
           "caxis": {
            "gridcolor": "white",
            "linecolor": "white",
            "ticks": ""
           }
          },
          "title": {
           "x": 0.05
          },
          "xaxis": {
           "automargin": true,
           "gridcolor": "white",
           "linecolor": "white",
           "ticks": "",
           "title": {
            "standoff": 15
           },
           "zerolinecolor": "white",
           "zerolinewidth": 2
          },
          "yaxis": {
           "automargin": true,
           "gridcolor": "white",
           "linecolor": "white",
           "ticks": "",
           "title": {
            "standoff": 15
           },
           "zerolinecolor": "white",
           "zerolinewidth": 2
          }
         }
        },
        "title": {
         "text": "Transport Stats Per Provider"
        },
        "xaxis": {
         "anchor": "y",
         "domain": [
          0,
          1
         ],
         "title": {
          "text": "Providers"
         }
        },
        "yaxis": {
         "anchor": "x",
         "domain": [
          0,
          1
         ],
         "title": {
          "text": "Total Transports"
         }
        }
       }
      }
     },
     "metadata": {},
     "output_type": "display_data"
    }
   ],
   "source": [
    "fig = px.bar(provider_transport_breakdown_df, x='Full Name', y='count', color='Destination Location Name', title=\"Transport Stats Per Provider\",\n",
    "       labels={'Full Name':\"Providers\", 'count': \"Total Transports\", 'Destination Location Name' : 'Transport Destinations'} )\n",
    "\n",
    "totals = provider_transport_breakdown_df.groupby('Full Name')['count'].sum()\n",
    "for i, (provider, total) in enumerate(totals.items()):\n",
    "    fig.add_annotation(x=provider, y=total, text=str(total), showarrow=False, yshift=10)\n",
    "\n",
    "fig.show()"
   ]
  },
  {
   "cell_type": "markdown",
   "id": "9c617f87",
   "metadata": {},
   "source": [
    "## Hospital Distribution"
   ]
  },
  {
   "cell_type": "code",
   "execution_count": null,
   "id": "4565be7c",
   "metadata": {},
   "outputs": [
    {
     "data": {
      "text/html": [
       "<div>\n",
       "<style scoped>\n",
       "    .dataframe tbody tr th:only-of-type {\n",
       "        vertical-align: middle;\n",
       "    }\n",
       "\n",
       "    .dataframe tbody tr th {\n",
       "        vertical-align: top;\n",
       "    }\n",
       "\n",
       "    .dataframe thead th {\n",
       "        text-align: right;\n",
       "    }\n",
       "</style>\n",
       "<table border=\"1\" class=\"dataframe\">\n",
       "  <thead>\n",
       "    <tr style=\"text-align: right;\">\n",
       "      <th></th>\n",
       "      <th>Destination Location Name</th>\n",
       "      <th>count</th>\n",
       "    </tr>\n",
       "  </thead>\n",
       "  <tbody>\n",
       "    <tr>\n",
       "      <th>0</th>\n",
       "      <td>BAYLOR SCOTT &amp; WHITE - AUSTIN</td>\n",
       "      <td>2</td>\n",
       "    </tr>\n",
       "    <tr>\n",
       "      <th>1</th>\n",
       "      <td>BAYLOR SCOTT &amp; WHITE - LAKEWAY</td>\n",
       "      <td>46</td>\n",
       "    </tr>\n",
       "    <tr>\n",
       "      <th>2</th>\n",
       "      <td>DELL SETON MEDICAL CENTER</td>\n",
       "      <td>5</td>\n",
       "    </tr>\n",
       "    <tr>\n",
       "      <th>3</th>\n",
       "      <td>Dell Childrens Medical Center</td>\n",
       "      <td>19</td>\n",
       "    </tr>\n",
       "    <tr>\n",
       "      <th>4</th>\n",
       "      <td>HEART HOSPITAL OF AUSTIN</td>\n",
       "      <td>3</td>\n",
       "    </tr>\n",
       "    <tr>\n",
       "      <th>5</th>\n",
       "      <td>NORTH AUSTIN MEDICAL CENT.</td>\n",
       "      <td>6</td>\n",
       "    </tr>\n",
       "    <tr>\n",
       "      <th>6</th>\n",
       "      <td>SETON ER, AUSTIN</td>\n",
       "      <td>14</td>\n",
       "    </tr>\n",
       "    <tr>\n",
       "      <th>7</th>\n",
       "      <td>SETON MED CENTER, HAYS</td>\n",
       "      <td>15</td>\n",
       "    </tr>\n",
       "    <tr>\n",
       "      <th>8</th>\n",
       "      <td>SETON SOUTHWEST HOSPITAL</td>\n",
       "      <td>69</td>\n",
       "    </tr>\n",
       "    <tr>\n",
       "      <th>9</th>\n",
       "      <td>SOUTH AUSTIN HOSPITAL, AUSTIN</td>\n",
       "      <td>237</td>\n",
       "    </tr>\n",
       "    <tr>\n",
       "      <th>10</th>\n",
       "      <td>ST DAVID'S ER, AUSTIN</td>\n",
       "      <td>2</td>\n",
       "    </tr>\n",
       "  </tbody>\n",
       "</table>\n",
       "</div>"
      ],
      "text/plain": [
       "         Destination Location Name  count\n",
       "0    BAYLOR SCOTT & WHITE - AUSTIN      2\n",
       "1   BAYLOR SCOTT & WHITE - LAKEWAY     46\n",
       "2        DELL SETON MEDICAL CENTER      5\n",
       "3    Dell Childrens Medical Center     19\n",
       "4         HEART HOSPITAL OF AUSTIN      3\n",
       "5       NORTH AUSTIN MEDICAL CENT.      6\n",
       "6                 SETON ER, AUSTIN     14\n",
       "7           SETON MED CENTER, HAYS     15\n",
       "8         SETON SOUTHWEST HOSPITAL     69\n",
       "9    SOUTH AUSTIN HOSPITAL, AUSTIN    237\n",
       "10           ST DAVID'S ER, AUSTIN      2"
      ]
     },
     "execution_count": 78,
     "metadata": {},
     "output_type": "execute_result"
    }
   ],
   "source": [
    "transport_df_dropped_duplicates = transport_df.drop()\n",
    "hospital_series = transport_df.groupby('Destination Location Name').size()\n",
    "hospital_df = hospital_series.reset_index(name='count')\n",
    "hospital_df\n"
   ]
  },
  {
   "cell_type": "code",
   "execution_count": 77,
   "id": "deaffe23",
   "metadata": {},
   "outputs": [
    {
     "data": {
      "application/vnd.plotly.v1+json": {
       "config": {
        "plotlyServerURL": "https://plot.ly"
       },
       "data": [
        {
         "hovertemplate": "Destination Location Name=%{x}<br>count=%{y}<extra></extra>",
         "legendgroup": "",
         "marker": {
          "color": "#636efa",
          "pattern": {
           "shape": ""
          }
         },
         "name": "",
         "orientation": "v",
         "showlegend": false,
         "textposition": "auto",
         "type": "bar",
         "x": [
          "BAYLOR SCOTT & WHITE - AUSTIN",
          "BAYLOR SCOTT & WHITE - AUSTIN",
          "BAYLOR SCOTT & WHITE - LAKEWAY",
          "BAYLOR SCOTT & WHITE - LAKEWAY",
          "BAYLOR SCOTT & WHITE - LAKEWAY",
          "BAYLOR SCOTT & WHITE - LAKEWAY",
          "BAYLOR SCOTT & WHITE - LAKEWAY",
          "BAYLOR SCOTT & WHITE - LAKEWAY",
          "BAYLOR SCOTT & WHITE - LAKEWAY",
          "BAYLOR SCOTT & WHITE - LAKEWAY",
          "BAYLOR SCOTT & WHITE - LAKEWAY",
          "BAYLOR SCOTT & WHITE - LAKEWAY",
          "BAYLOR SCOTT & WHITE - LAKEWAY",
          "BAYLOR SCOTT & WHITE - LAKEWAY",
          "BAYLOR SCOTT & WHITE - LAKEWAY",
          "BAYLOR SCOTT & WHITE - LAKEWAY",
          "BAYLOR SCOTT & WHITE - LAKEWAY",
          "BAYLOR SCOTT & WHITE - LAKEWAY",
          "BAYLOR SCOTT & WHITE - LAKEWAY",
          "BAYLOR SCOTT & WHITE - LAKEWAY",
          "BAYLOR SCOTT & WHITE - LAKEWAY",
          "BAYLOR SCOTT & WHITE - LAKEWAY",
          "BAYLOR SCOTT & WHITE - LAKEWAY",
          "BAYLOR SCOTT & WHITE - LAKEWAY",
          "BAYLOR SCOTT & WHITE - LAKEWAY",
          "BAYLOR SCOTT & WHITE - LAKEWAY",
          "DELL SETON MEDICAL CENTER",
          "DELL SETON MEDICAL CENTER",
          "DELL SETON MEDICAL CENTER",
          "DELL SETON MEDICAL CENTER",
          "DELL SETON MEDICAL CENTER",
          "Dell Childrens Medical Center",
          "Dell Childrens Medical Center",
          "Dell Childrens Medical Center",
          "Dell Childrens Medical Center",
          "Dell Childrens Medical Center",
          "Dell Childrens Medical Center",
          "Dell Childrens Medical Center",
          "Dell Childrens Medical Center",
          "Dell Childrens Medical Center",
          "Dell Childrens Medical Center",
          "Dell Childrens Medical Center",
          "Dell Childrens Medical Center",
          "Dell Childrens Medical Center",
          "Dell Childrens Medical Center",
          "HEART HOSPITAL OF AUSTIN",
          "HEART HOSPITAL OF AUSTIN",
          "HEART HOSPITAL OF AUSTIN",
          "NORTH AUSTIN MEDICAL CENT.",
          "NORTH AUSTIN MEDICAL CENT.",
          "NORTH AUSTIN MEDICAL CENT.",
          "NORTH AUSTIN MEDICAL CENT.",
          "SETON ER, AUSTIN",
          "SETON ER, AUSTIN",
          "SETON ER, AUSTIN",
          "SETON ER, AUSTIN",
          "SETON ER, AUSTIN",
          "SETON ER, AUSTIN",
          "SETON ER, AUSTIN",
          "SETON ER, AUSTIN",
          "SETON ER, AUSTIN",
          "SETON ER, AUSTIN",
          "SETON MED CENTER, HAYS",
          "SETON MED CENTER, HAYS",
          "SETON MED CENTER, HAYS",
          "SETON MED CENTER, HAYS",
          "SETON MED CENTER, HAYS",
          "SETON MED CENTER, HAYS",
          "SETON MED CENTER, HAYS",
          "SETON MED CENTER, HAYS",
          "SETON MED CENTER, HAYS",
          "SETON MED CENTER, HAYS",
          "SETON MED CENTER, HAYS",
          "SETON SOUTHWEST HOSPITAL",
          "SETON SOUTHWEST HOSPITAL",
          "SETON SOUTHWEST HOSPITAL",
          "SETON SOUTHWEST HOSPITAL",
          "SETON SOUTHWEST HOSPITAL",
          "SETON SOUTHWEST HOSPITAL",
          "SETON SOUTHWEST HOSPITAL",
          "SETON SOUTHWEST HOSPITAL",
          "SETON SOUTHWEST HOSPITAL",
          "SETON SOUTHWEST HOSPITAL",
          "SETON SOUTHWEST HOSPITAL",
          "SETON SOUTHWEST HOSPITAL",
          "SETON SOUTHWEST HOSPITAL",
          "SETON SOUTHWEST HOSPITAL",
          "SETON SOUTHWEST HOSPITAL",
          "SETON SOUTHWEST HOSPITAL",
          "SETON SOUTHWEST HOSPITAL",
          "SETON SOUTHWEST HOSPITAL",
          "SETON SOUTHWEST HOSPITAL",
          "SETON SOUTHWEST HOSPITAL",
          "SETON SOUTHWEST HOSPITAL",
          "SETON SOUTHWEST HOSPITAL",
          "SETON SOUTHWEST HOSPITAL",
          "SOUTH AUSTIN HOSPITAL, AUSTIN",
          "SOUTH AUSTIN HOSPITAL, AUSTIN",
          "SOUTH AUSTIN HOSPITAL, AUSTIN",
          "SOUTH AUSTIN HOSPITAL, AUSTIN",
          "SOUTH AUSTIN HOSPITAL, AUSTIN",
          "SOUTH AUSTIN HOSPITAL, AUSTIN",
          "SOUTH AUSTIN HOSPITAL, AUSTIN",
          "SOUTH AUSTIN HOSPITAL, AUSTIN",
          "SOUTH AUSTIN HOSPITAL, AUSTIN",
          "SOUTH AUSTIN HOSPITAL, AUSTIN",
          "SOUTH AUSTIN HOSPITAL, AUSTIN",
          "SOUTH AUSTIN HOSPITAL, AUSTIN",
          "SOUTH AUSTIN HOSPITAL, AUSTIN",
          "SOUTH AUSTIN HOSPITAL, AUSTIN",
          "SOUTH AUSTIN HOSPITAL, AUSTIN",
          "SOUTH AUSTIN HOSPITAL, AUSTIN",
          "SOUTH AUSTIN HOSPITAL, AUSTIN",
          "SOUTH AUSTIN HOSPITAL, AUSTIN",
          "SOUTH AUSTIN HOSPITAL, AUSTIN",
          "SOUTH AUSTIN HOSPITAL, AUSTIN",
          "SOUTH AUSTIN HOSPITAL, AUSTIN",
          "SOUTH AUSTIN HOSPITAL, AUSTIN",
          "SOUTH AUSTIN HOSPITAL, AUSTIN",
          "SOUTH AUSTIN HOSPITAL, AUSTIN",
          "SOUTH AUSTIN HOSPITAL, AUSTIN",
          "SOUTH AUSTIN HOSPITAL, AUSTIN",
          "SOUTH AUSTIN HOSPITAL, AUSTIN",
          "SOUTH AUSTIN HOSPITAL, AUSTIN",
          "ST DAVID'S ER, AUSTIN",
          "ST DAVID'S ER, AUSTIN"
         ],
         "xaxis": "x",
         "y": {
          "bdata": "AQEFAwMDAwMDAwICAgIBAQEBAQEBAQEBAQEBAQEBAQMDAgEBAQEBAQEBAQEBAQEBAgIBAQMDAQEBAQEBAQECAgICAQEBAQEBAQkICAcEBAQDAwMDAgEBAQEBAQEBAQEBEA8ODg4NDQwLCgoKCQkICAcHBwYEBAQEAwICAQEB",
          "dtype": "i1"
         },
         "yaxis": "y"
        }
       ],
       "layout": {
        "barmode": "relative",
        "legend": {
         "tracegroupgap": 0
        },
        "margin": {
         "t": 60
        },
        "template": {
         "data": {
          "bar": [
           {
            "error_x": {
             "color": "#2a3f5f"
            },
            "error_y": {
             "color": "#2a3f5f"
            },
            "marker": {
             "line": {
              "color": "#E5ECF6",
              "width": 0.5
             },
             "pattern": {
              "fillmode": "overlay",
              "size": 10,
              "solidity": 0.2
             }
            },
            "type": "bar"
           }
          ],
          "barpolar": [
           {
            "marker": {
             "line": {
              "color": "#E5ECF6",
              "width": 0.5
             },
             "pattern": {
              "fillmode": "overlay",
              "size": 10,
              "solidity": 0.2
             }
            },
            "type": "barpolar"
           }
          ],
          "carpet": [
           {
            "aaxis": {
             "endlinecolor": "#2a3f5f",
             "gridcolor": "white",
             "linecolor": "white",
             "minorgridcolor": "white",
             "startlinecolor": "#2a3f5f"
            },
            "baxis": {
             "endlinecolor": "#2a3f5f",
             "gridcolor": "white",
             "linecolor": "white",
             "minorgridcolor": "white",
             "startlinecolor": "#2a3f5f"
            },
            "type": "carpet"
           }
          ],
          "choropleth": [
           {
            "colorbar": {
             "outlinewidth": 0,
             "ticks": ""
            },
            "type": "choropleth"
           }
          ],
          "contour": [
           {
            "colorbar": {
             "outlinewidth": 0,
             "ticks": ""
            },
            "colorscale": [
             [
              0,
              "#0d0887"
             ],
             [
              0.1111111111111111,
              "#46039f"
             ],
             [
              0.2222222222222222,
              "#7201a8"
             ],
             [
              0.3333333333333333,
              "#9c179e"
             ],
             [
              0.4444444444444444,
              "#bd3786"
             ],
             [
              0.5555555555555556,
              "#d8576b"
             ],
             [
              0.6666666666666666,
              "#ed7953"
             ],
             [
              0.7777777777777778,
              "#fb9f3a"
             ],
             [
              0.8888888888888888,
              "#fdca26"
             ],
             [
              1,
              "#f0f921"
             ]
            ],
            "type": "contour"
           }
          ],
          "contourcarpet": [
           {
            "colorbar": {
             "outlinewidth": 0,
             "ticks": ""
            },
            "type": "contourcarpet"
           }
          ],
          "heatmap": [
           {
            "colorbar": {
             "outlinewidth": 0,
             "ticks": ""
            },
            "colorscale": [
             [
              0,
              "#0d0887"
             ],
             [
              0.1111111111111111,
              "#46039f"
             ],
             [
              0.2222222222222222,
              "#7201a8"
             ],
             [
              0.3333333333333333,
              "#9c179e"
             ],
             [
              0.4444444444444444,
              "#bd3786"
             ],
             [
              0.5555555555555556,
              "#d8576b"
             ],
             [
              0.6666666666666666,
              "#ed7953"
             ],
             [
              0.7777777777777778,
              "#fb9f3a"
             ],
             [
              0.8888888888888888,
              "#fdca26"
             ],
             [
              1,
              "#f0f921"
             ]
            ],
            "type": "heatmap"
           }
          ],
          "histogram": [
           {
            "marker": {
             "pattern": {
              "fillmode": "overlay",
              "size": 10,
              "solidity": 0.2
             }
            },
            "type": "histogram"
           }
          ],
          "histogram2d": [
           {
            "colorbar": {
             "outlinewidth": 0,
             "ticks": ""
            },
            "colorscale": [
             [
              0,
              "#0d0887"
             ],
             [
              0.1111111111111111,
              "#46039f"
             ],
             [
              0.2222222222222222,
              "#7201a8"
             ],
             [
              0.3333333333333333,
              "#9c179e"
             ],
             [
              0.4444444444444444,
              "#bd3786"
             ],
             [
              0.5555555555555556,
              "#d8576b"
             ],
             [
              0.6666666666666666,
              "#ed7953"
             ],
             [
              0.7777777777777778,
              "#fb9f3a"
             ],
             [
              0.8888888888888888,
              "#fdca26"
             ],
             [
              1,
              "#f0f921"
             ]
            ],
            "type": "histogram2d"
           }
          ],
          "histogram2dcontour": [
           {
            "colorbar": {
             "outlinewidth": 0,
             "ticks": ""
            },
            "colorscale": [
             [
              0,
              "#0d0887"
             ],
             [
              0.1111111111111111,
              "#46039f"
             ],
             [
              0.2222222222222222,
              "#7201a8"
             ],
             [
              0.3333333333333333,
              "#9c179e"
             ],
             [
              0.4444444444444444,
              "#bd3786"
             ],
             [
              0.5555555555555556,
              "#d8576b"
             ],
             [
              0.6666666666666666,
              "#ed7953"
             ],
             [
              0.7777777777777778,
              "#fb9f3a"
             ],
             [
              0.8888888888888888,
              "#fdca26"
             ],
             [
              1,
              "#f0f921"
             ]
            ],
            "type": "histogram2dcontour"
           }
          ],
          "mesh3d": [
           {
            "colorbar": {
             "outlinewidth": 0,
             "ticks": ""
            },
            "type": "mesh3d"
           }
          ],
          "parcoords": [
           {
            "line": {
             "colorbar": {
              "outlinewidth": 0,
              "ticks": ""
             }
            },
            "type": "parcoords"
           }
          ],
          "pie": [
           {
            "automargin": true,
            "type": "pie"
           }
          ],
          "scatter": [
           {
            "fillpattern": {
             "fillmode": "overlay",
             "size": 10,
             "solidity": 0.2
            },
            "type": "scatter"
           }
          ],
          "scatter3d": [
           {
            "line": {
             "colorbar": {
              "outlinewidth": 0,
              "ticks": ""
             }
            },
            "marker": {
             "colorbar": {
              "outlinewidth": 0,
              "ticks": ""
             }
            },
            "type": "scatter3d"
           }
          ],
          "scattercarpet": [
           {
            "marker": {
             "colorbar": {
              "outlinewidth": 0,
              "ticks": ""
             }
            },
            "type": "scattercarpet"
           }
          ],
          "scattergeo": [
           {
            "marker": {
             "colorbar": {
              "outlinewidth": 0,
              "ticks": ""
             }
            },
            "type": "scattergeo"
           }
          ],
          "scattergl": [
           {
            "marker": {
             "colorbar": {
              "outlinewidth": 0,
              "ticks": ""
             }
            },
            "type": "scattergl"
           }
          ],
          "scattermap": [
           {
            "marker": {
             "colorbar": {
              "outlinewidth": 0,
              "ticks": ""
             }
            },
            "type": "scattermap"
           }
          ],
          "scattermapbox": [
           {
            "marker": {
             "colorbar": {
              "outlinewidth": 0,
              "ticks": ""
             }
            },
            "type": "scattermapbox"
           }
          ],
          "scatterpolar": [
           {
            "marker": {
             "colorbar": {
              "outlinewidth": 0,
              "ticks": ""
             }
            },
            "type": "scatterpolar"
           }
          ],
          "scatterpolargl": [
           {
            "marker": {
             "colorbar": {
              "outlinewidth": 0,
              "ticks": ""
             }
            },
            "type": "scatterpolargl"
           }
          ],
          "scatterternary": [
           {
            "marker": {
             "colorbar": {
              "outlinewidth": 0,
              "ticks": ""
             }
            },
            "type": "scatterternary"
           }
          ],
          "surface": [
           {
            "colorbar": {
             "outlinewidth": 0,
             "ticks": ""
            },
            "colorscale": [
             [
              0,
              "#0d0887"
             ],
             [
              0.1111111111111111,
              "#46039f"
             ],
             [
              0.2222222222222222,
              "#7201a8"
             ],
             [
              0.3333333333333333,
              "#9c179e"
             ],
             [
              0.4444444444444444,
              "#bd3786"
             ],
             [
              0.5555555555555556,
              "#d8576b"
             ],
             [
              0.6666666666666666,
              "#ed7953"
             ],
             [
              0.7777777777777778,
              "#fb9f3a"
             ],
             [
              0.8888888888888888,
              "#fdca26"
             ],
             [
              1,
              "#f0f921"
             ]
            ],
            "type": "surface"
           }
          ],
          "table": [
           {
            "cells": {
             "fill": {
              "color": "#EBF0F8"
             },
             "line": {
              "color": "white"
             }
            },
            "header": {
             "fill": {
              "color": "#C8D4E3"
             },
             "line": {
              "color": "white"
             }
            },
            "type": "table"
           }
          ]
         },
         "layout": {
          "annotationdefaults": {
           "arrowcolor": "#2a3f5f",
           "arrowhead": 0,
           "arrowwidth": 1
          },
          "autotypenumbers": "strict",
          "coloraxis": {
           "colorbar": {
            "outlinewidth": 0,
            "ticks": ""
           }
          },
          "colorscale": {
           "diverging": [
            [
             0,
             "#8e0152"
            ],
            [
             0.1,
             "#c51b7d"
            ],
            [
             0.2,
             "#de77ae"
            ],
            [
             0.3,
             "#f1b6da"
            ],
            [
             0.4,
             "#fde0ef"
            ],
            [
             0.5,
             "#f7f7f7"
            ],
            [
             0.6,
             "#e6f5d0"
            ],
            [
             0.7,
             "#b8e186"
            ],
            [
             0.8,
             "#7fbc41"
            ],
            [
             0.9,
             "#4d9221"
            ],
            [
             1,
             "#276419"
            ]
           ],
           "sequential": [
            [
             0,
             "#0d0887"
            ],
            [
             0.1111111111111111,
             "#46039f"
            ],
            [
             0.2222222222222222,
             "#7201a8"
            ],
            [
             0.3333333333333333,
             "#9c179e"
            ],
            [
             0.4444444444444444,
             "#bd3786"
            ],
            [
             0.5555555555555556,
             "#d8576b"
            ],
            [
             0.6666666666666666,
             "#ed7953"
            ],
            [
             0.7777777777777778,
             "#fb9f3a"
            ],
            [
             0.8888888888888888,
             "#fdca26"
            ],
            [
             1,
             "#f0f921"
            ]
           ],
           "sequentialminus": [
            [
             0,
             "#0d0887"
            ],
            [
             0.1111111111111111,
             "#46039f"
            ],
            [
             0.2222222222222222,
             "#7201a8"
            ],
            [
             0.3333333333333333,
             "#9c179e"
            ],
            [
             0.4444444444444444,
             "#bd3786"
            ],
            [
             0.5555555555555556,
             "#d8576b"
            ],
            [
             0.6666666666666666,
             "#ed7953"
            ],
            [
             0.7777777777777778,
             "#fb9f3a"
            ],
            [
             0.8888888888888888,
             "#fdca26"
            ],
            [
             1,
             "#f0f921"
            ]
           ]
          },
          "colorway": [
           "#636efa",
           "#EF553B",
           "#00cc96",
           "#ab63fa",
           "#FFA15A",
           "#19d3f3",
           "#FF6692",
           "#B6E880",
           "#FF97FF",
           "#FECB52"
          ],
          "font": {
           "color": "#2a3f5f"
          },
          "geo": {
           "bgcolor": "white",
           "lakecolor": "white",
           "landcolor": "#E5ECF6",
           "showlakes": true,
           "showland": true,
           "subunitcolor": "white"
          },
          "hoverlabel": {
           "align": "left"
          },
          "hovermode": "closest",
          "mapbox": {
           "style": "light"
          },
          "paper_bgcolor": "white",
          "plot_bgcolor": "#E5ECF6",
          "polar": {
           "angularaxis": {
            "gridcolor": "white",
            "linecolor": "white",
            "ticks": ""
           },
           "bgcolor": "#E5ECF6",
           "radialaxis": {
            "gridcolor": "white",
            "linecolor": "white",
            "ticks": ""
           }
          },
          "scene": {
           "xaxis": {
            "backgroundcolor": "#E5ECF6",
            "gridcolor": "white",
            "gridwidth": 2,
            "linecolor": "white",
            "showbackground": true,
            "ticks": "",
            "zerolinecolor": "white"
           },
           "yaxis": {
            "backgroundcolor": "#E5ECF6",
            "gridcolor": "white",
            "gridwidth": 2,
            "linecolor": "white",
            "showbackground": true,
            "ticks": "",
            "zerolinecolor": "white"
           },
           "zaxis": {
            "backgroundcolor": "#E5ECF6",
            "gridcolor": "white",
            "gridwidth": 2,
            "linecolor": "white",
            "showbackground": true,
            "ticks": "",
            "zerolinecolor": "white"
           }
          },
          "shapedefaults": {
           "line": {
            "color": "#2a3f5f"
           }
          },
          "ternary": {
           "aaxis": {
            "gridcolor": "white",
            "linecolor": "white",
            "ticks": ""
           },
           "baxis": {
            "gridcolor": "white",
            "linecolor": "white",
            "ticks": ""
           },
           "bgcolor": "#E5ECF6",
           "caxis": {
            "gridcolor": "white",
            "linecolor": "white",
            "ticks": ""
           }
          },
          "title": {
           "x": 0.05
          },
          "xaxis": {
           "automargin": true,
           "gridcolor": "white",
           "linecolor": "white",
           "ticks": "",
           "title": {
            "standoff": 15
           },
           "zerolinecolor": "white",
           "zerolinewidth": 2
          },
          "yaxis": {
           "automargin": true,
           "gridcolor": "white",
           "linecolor": "white",
           "ticks": "",
           "title": {
            "standoff": 15
           },
           "zerolinecolor": "white",
           "zerolinewidth": 2
          }
         }
        },
        "xaxis": {
         "anchor": "y",
         "domain": [
          0,
          1
         ],
         "title": {
          "text": "Destination Location Name"
         }
        },
        "yaxis": {
         "anchor": "x",
         "domain": [
          0,
          1
         ],
         "title": {
          "text": "count"
         }
        }
       }
      }
     },
     "metadata": {},
     "output_type": "display_data"
    }
   ],
   "source": [
    "fig = px.bar(hospital_df, y='count',x='Destination Location Name')\n",
    "fig.show()"
   ]
  },
  {
   "cell_type": "code",
   "execution_count": null,
   "id": "17e4bda1",
   "metadata": {},
   "outputs": [],
   "source": []
  }
 ],
 "metadata": {
  "kernelspec": {
   "display_name": "Python 3",
   "language": "python",
   "name": "python3"
  },
  "language_info": {
   "codemirror_mode": {
    "name": "ipython",
    "version": 3
   },
   "file_extension": ".py",
   "mimetype": "text/x-python",
   "name": "python",
   "nbconvert_exporter": "python",
   "pygments_lexer": "ipython3",
   "version": "3.13.2"
  }
 },
 "nbformat": 4,
 "nbformat_minor": 5
}
